{
 "cells": [
  {
   "cell_type": "code",
   "execution_count": 45,
   "id": "6568965e",
   "metadata": {},
   "outputs": [
    {
     "name": "stdout",
     "output_type": "stream",
     "text": [
      "The original tuple : (4, 56)\n",
      "The float after conversion from tuple is : 4.56\n"
     ]
    }
   ],
   "source": [
    "# initialize tuple \n",
    "test_tup = (4, 56) \n",
    " \n",
    "# printing original tuple \n",
    "print(\"The original tuple : \" + str(test_tup)) \n",
    " \n",
    "# Convert tuple to float \n",
    "# using join() + float() + str() + generator expression \n",
    "res = float('.'.join(str(ele) for ele in test_tup)) \n",
    " \n",
    "# printing result \n",
    "print(\"The float after conversion from tuple is : \" + str(res))"
   ]
  },
  {
   "cell_type": "code",
   "execution_count": 46,
   "id": "145b7562",
   "metadata": {},
   "outputs": [
    {
     "name": "stdout",
     "output_type": "stream",
     "text": [
      "The original tuple : (4, 56)\n",
      "The float after conversion from tuple is : 4.56\n"
     ]
    }
   ],
   "source": [
    "# initialize tuple\n",
    "test_tup = (4, 56)\n",
    " \n",
    "# printing original tuple \n",
    "print(\"The original tuple : \" + str(test_tup))\n",
    " \n",
    "# Convert tuple to float\n",
    "# using format() + join()\n",
    "res = float(\"{}.{}\".format(*test_tup))\n",
    " \n",
    "# printing result\n",
    "print(\"The float after conversion from tuple is : \" + str(res))"
   ]
  },
  {
   "cell_type": "code",
   "execution_count": null,
   "id": "d3211cb2",
   "metadata": {},
   "outputs": [],
   "source": []
  }
 ],
 "metadata": {
  "kernelspec": {
   "display_name": "Python 3 (ipykernel)",
   "language": "python",
   "name": "python3"
  },
  "language_info": {
   "codemirror_mode": {
    "name": "ipython",
    "version": 3
   },
   "file_extension": ".py",
   "mimetype": "text/x-python",
   "name": "python",
   "nbconvert_exporter": "python",
   "pygments_lexer": "ipython3",
   "version": "3.9.13"
  }
 },
 "nbformat": 4,
 "nbformat_minor": 5
}
